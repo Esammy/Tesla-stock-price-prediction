{
  "cells": [
    {
      "cell_type": "code",
      "execution_count": 1,
      "metadata": {
        "id": "ZPwbFINNOSKW"
      },
      "outputs": [],
      "source": [
        "import math\n",
        "import numpy as np \n",
        "import pandas as pd \n",
        "import matplotlib.pyplot as plt \n",
        "from sklearn.preprocessing import MinMaxScaler\n",
        "#import pandas_datareader as web\n",
        "from keras.models import Sequential\n",
        "from keras.layers import Dense,LSTM,Dropout\n",
        "plt.style.use('fivethirtyeight')"
      ]
    },
    {
      "cell_type": "code",
      "execution_count": 2,
      "metadata": {
        "colab": {
          "base_uri": "https://localhost:8080/",
          "height": 213
        },
        "id": "iKWBMXLIOSK7",
        "outputId": "89eaa51b-1d78-42d9-fc9d-b42cf7a3b3ae"
      },
      "outputs": [
        {
          "output_type": "execute_result",
          "data": {
            "text/plain": [
              "                 Open   High        Low      Close  Adj Close    Volume\n",
              "Date                                                                   \n",
              "29-06-2010  19.000000  25.00  17.540001  23.889999  23.889999  18766300\n",
              "30-06-2010  25.790001  30.42  23.299999  23.830000  23.830000  17187100\n",
              "01-07-2010  25.000000  25.92  20.270000  21.959999  21.959999   8218800\n",
              "02-07-2010  23.000000  23.10  18.709999  19.200001  19.200001   5139800\n",
              "06-07-2010  20.000000  20.00  15.830000  16.110001  16.110001   6866900"
            ],
            "text/html": [
              "\n",
              "  <div id=\"df-caa85a9b-8b63-4005-b2bc-2205517c45de\">\n",
              "    <div class=\"colab-df-container\">\n",
              "      <div>\n",
              "<style scoped>\n",
              "    .dataframe tbody tr th:only-of-type {\n",
              "        vertical-align: middle;\n",
              "    }\n",
              "\n",
              "    .dataframe tbody tr th {\n",
              "        vertical-align: top;\n",
              "    }\n",
              "\n",
              "    .dataframe thead th {\n",
              "        text-align: right;\n",
              "    }\n",
              "</style>\n",
              "<table border=\"1\" class=\"dataframe\">\n",
              "  <thead>\n",
              "    <tr style=\"text-align: right;\">\n",
              "      <th></th>\n",
              "      <th>Open</th>\n",
              "      <th>High</th>\n",
              "      <th>Low</th>\n",
              "      <th>Close</th>\n",
              "      <th>Adj Close</th>\n",
              "      <th>Volume</th>\n",
              "    </tr>\n",
              "    <tr>\n",
              "      <th>Date</th>\n",
              "      <th></th>\n",
              "      <th></th>\n",
              "      <th></th>\n",
              "      <th></th>\n",
              "      <th></th>\n",
              "      <th></th>\n",
              "    </tr>\n",
              "  </thead>\n",
              "  <tbody>\n",
              "    <tr>\n",
              "      <th>29-06-2010</th>\n",
              "      <td>19.000000</td>\n",
              "      <td>25.00</td>\n",
              "      <td>17.540001</td>\n",
              "      <td>23.889999</td>\n",
              "      <td>23.889999</td>\n",
              "      <td>18766300</td>\n",
              "    </tr>\n",
              "    <tr>\n",
              "      <th>30-06-2010</th>\n",
              "      <td>25.790001</td>\n",
              "      <td>30.42</td>\n",
              "      <td>23.299999</td>\n",
              "      <td>23.830000</td>\n",
              "      <td>23.830000</td>\n",
              "      <td>17187100</td>\n",
              "    </tr>\n",
              "    <tr>\n",
              "      <th>01-07-2010</th>\n",
              "      <td>25.000000</td>\n",
              "      <td>25.92</td>\n",
              "      <td>20.270000</td>\n",
              "      <td>21.959999</td>\n",
              "      <td>21.959999</td>\n",
              "      <td>8218800</td>\n",
              "    </tr>\n",
              "    <tr>\n",
              "      <th>02-07-2010</th>\n",
              "      <td>23.000000</td>\n",
              "      <td>23.10</td>\n",
              "      <td>18.709999</td>\n",
              "      <td>19.200001</td>\n",
              "      <td>19.200001</td>\n",
              "      <td>5139800</td>\n",
              "    </tr>\n",
              "    <tr>\n",
              "      <th>06-07-2010</th>\n",
              "      <td>20.000000</td>\n",
              "      <td>20.00</td>\n",
              "      <td>15.830000</td>\n",
              "      <td>16.110001</td>\n",
              "      <td>16.110001</td>\n",
              "      <td>6866900</td>\n",
              "    </tr>\n",
              "  </tbody>\n",
              "</table>\n",
              "</div>\n",
              "      <button class=\"colab-df-convert\" onclick=\"convertToInteractive('df-caa85a9b-8b63-4005-b2bc-2205517c45de')\"\n",
              "              title=\"Convert this dataframe to an interactive table.\"\n",
              "              style=\"display:none;\">\n",
              "        \n",
              "  <svg xmlns=\"http://www.w3.org/2000/svg\" height=\"24px\"viewBox=\"0 0 24 24\"\n",
              "       width=\"24px\">\n",
              "    <path d=\"M0 0h24v24H0V0z\" fill=\"none\"/>\n",
              "    <path d=\"M18.56 5.44l.94 2.06.94-2.06 2.06-.94-2.06-.94-.94-2.06-.94 2.06-2.06.94zm-11 1L8.5 8.5l.94-2.06 2.06-.94-2.06-.94L8.5 2.5l-.94 2.06-2.06.94zm10 10l.94 2.06.94-2.06 2.06-.94-2.06-.94-.94-2.06-.94 2.06-2.06.94z\"/><path d=\"M17.41 7.96l-1.37-1.37c-.4-.4-.92-.59-1.43-.59-.52 0-1.04.2-1.43.59L10.3 9.45l-7.72 7.72c-.78.78-.78 2.05 0 2.83L4 21.41c.39.39.9.59 1.41.59.51 0 1.02-.2 1.41-.59l7.78-7.78 2.81-2.81c.8-.78.8-2.07 0-2.86zM5.41 20L4 18.59l7.72-7.72 1.47 1.35L5.41 20z\"/>\n",
              "  </svg>\n",
              "      </button>\n",
              "      \n",
              "  <style>\n",
              "    .colab-df-container {\n",
              "      display:flex;\n",
              "      flex-wrap:wrap;\n",
              "      gap: 12px;\n",
              "    }\n",
              "\n",
              "    .colab-df-convert {\n",
              "      background-color: #E8F0FE;\n",
              "      border: none;\n",
              "      border-radius: 50%;\n",
              "      cursor: pointer;\n",
              "      display: none;\n",
              "      fill: #1967D2;\n",
              "      height: 32px;\n",
              "      padding: 0 0 0 0;\n",
              "      width: 32px;\n",
              "    }\n",
              "\n",
              "    .colab-df-convert:hover {\n",
              "      background-color: #E2EBFA;\n",
              "      box-shadow: 0px 1px 2px rgba(60, 64, 67, 0.3), 0px 1px 3px 1px rgba(60, 64, 67, 0.15);\n",
              "      fill: #174EA6;\n",
              "    }\n",
              "\n",
              "    [theme=dark] .colab-df-convert {\n",
              "      background-color: #3B4455;\n",
              "      fill: #D2E3FC;\n",
              "    }\n",
              "\n",
              "    [theme=dark] .colab-df-convert:hover {\n",
              "      background-color: #434B5C;\n",
              "      box-shadow: 0px 1px 3px 1px rgba(0, 0, 0, 0.15);\n",
              "      filter: drop-shadow(0px 1px 2px rgba(0, 0, 0, 0.3));\n",
              "      fill: #FFFFFF;\n",
              "    }\n",
              "  </style>\n",
              "\n",
              "      <script>\n",
              "        const buttonEl =\n",
              "          document.querySelector('#df-caa85a9b-8b63-4005-b2bc-2205517c45de button.colab-df-convert');\n",
              "        buttonEl.style.display =\n",
              "          google.colab.kernel.accessAllowed ? 'block' : 'none';\n",
              "\n",
              "        async function convertToInteractive(key) {\n",
              "          const element = document.querySelector('#df-caa85a9b-8b63-4005-b2bc-2205517c45de');\n",
              "          const dataTable =\n",
              "            await google.colab.kernel.invokeFunction('convertToInteractive',\n",
              "                                                     [key], {});\n",
              "          if (!dataTable) return;\n",
              "\n",
              "          const docLinkHtml = 'Like what you see? Visit the ' +\n",
              "            '<a target=\"_blank\" href=https://colab.research.google.com/notebooks/data_table.ipynb>data table notebook</a>'\n",
              "            + ' to learn more about interactive tables.';\n",
              "          element.innerHTML = '';\n",
              "          dataTable['output_type'] = 'display_data';\n",
              "          await google.colab.output.renderOutput(dataTable, element);\n",
              "          const docLink = document.createElement('div');\n",
              "          docLink.innerHTML = docLinkHtml;\n",
              "          element.appendChild(docLink);\n",
              "        }\n",
              "      </script>\n",
              "    </div>\n",
              "  </div>\n",
              "  "
            ]
          },
          "metadata": {},
          "execution_count": 2
        }
      ],
      "source": [
        "data = pd.read_csv('tesla.csv', index_col=['Date'])\n",
        "data.head()"
      ]
    },
    {
      "cell_type": "code",
      "execution_count": 3,
      "metadata": {
        "colab": {
          "base_uri": "https://localhost:8080/"
        },
        "id": "W-SpEPdNOSLH",
        "outputId": "30f4f8ee-0088-4cc4-8891-76bd64599623"
      },
      "outputs": [
        {
          "output_type": "stream",
          "name": "stdout",
          "text": [
            "<class 'pandas.core.frame.DataFrame'>\n",
            "Index: 2193 entries, 29-06-2010 to 15-03-2019\n",
            "Data columns (total 6 columns):\n",
            " #   Column     Non-Null Count  Dtype  \n",
            "---  ------     --------------  -----  \n",
            " 0   Open       2193 non-null   float64\n",
            " 1   High       2193 non-null   float64\n",
            " 2   Low        2193 non-null   float64\n",
            " 3   Close      2193 non-null   float64\n",
            " 4   Adj Close  2193 non-null   float64\n",
            " 5   Volume     2193 non-null   int64  \n",
            "dtypes: float64(5), int64(1)\n",
            "memory usage: 119.9+ KB\n"
          ]
        }
      ],
      "source": [
        "data.info()"
      ]
    },
    {
      "cell_type": "code",
      "execution_count": 4,
      "metadata": {
        "colab": {
          "base_uri": "https://localhost:8080/"
        },
        "id": "pM05hrCLOSLN",
        "outputId": "beee96eb-bb0e-46a7-f0b6-4209bf118342"
      },
      "outputs": [
        {
          "output_type": "execute_result",
          "data": {
            "text/plain": [
              "(2193, 6)"
            ]
          },
          "metadata": {},
          "execution_count": 4
        }
      ],
      "source": [
        "data.shape"
      ]
    },
    {
      "cell_type": "code",
      "execution_count": 5,
      "metadata": {
        "colab": {
          "base_uri": "https://localhost:8080/",
          "height": 402
        },
        "id": "nP51xMGfOSLS",
        "outputId": "b23b3aae-09cd-4f5d-b0c3-3c7a1102b21b"
      },
      "outputs": [
        {
          "output_type": "display_data",
          "data": {
            "text/plain": [
              "<Figure size 1152x576 with 1 Axes>"
            ],
            "image/png": "[encoded data removed]"
          },
          "metadata": {
            "needs_background": "light"
          }
        }
      ],
      "source": [
        "# visualizing the adjusted closing price history\n",
        "\n",
        "plt.figure(figsize=(16,8))\n",
        "plt.title('Colsing Price History')\n",
        "plt.plot(data['Close'])\n",
        "plt.xlabel('Date', fontsize=18)\n",
        "plt.ylabel('closing price USD ($)', fontsize=18)\n",
        "plt.show()"
      ]
    },
    {
      "cell_type": "code",
      "execution_count": 6,
      "metadata": {
        "colab": {
          "base_uri": "https://localhost:8080/"
        },
        "id": "DWykrJHcOSLY",
        "outputId": "0da8a12e-c3c2-44ad-ae61-0edde6f208b9"
      },
      "outputs": [
        {
          "output_type": "stream",
          "name": "stdout",
          "text": [
            "The total number of our training set is 1755\n"
          ]
        }
      ],
      "source": [
        "# create a new dataframe with only adj closeing column\n",
        "t_data = data.filter(['Close'])\n",
        "\n",
        "# coconver the dataframe to a numpy array\n",
        "dataset = t_data.values\n",
        "\n",
        "# Get the number of rows to train the model on\n",
        "training_data_num = math.ceil(len(dataset) * .8)\n",
        "\n",
        "print('The total number of our training set is', training_data_num)"
      ]
    },
    {
      "cell_type": "code",
      "execution_count": 7,
      "metadata": {
        "colab": {
          "base_uri": "https://localhost:8080/"
        },
        "id": "z5abpJWPOSLd",
        "outputId": "64121a9c-87ec-49e8-c3ba-a997041a7d13"
      },
      "outputs": [
        {
          "output_type": "execute_result",
          "data": {
            "text/plain": [
              "array([[0.02191224],\n",
              "       [0.02174973],\n",
              "       [0.01668472],\n",
              "       ...,\n",
              "       [0.73986996],\n",
              "       [0.74257852],\n",
              "       [0.70322317]])"
            ]
          },
          "metadata": {},
          "execution_count": 7
        }
      ],
      "source": [
        "# Scaling the data\n",
        "scaler = MinMaxScaler(feature_range=(0,1))\n",
        "scaled_data = scaler.fit_transform(dataset)\n",
        "\n",
        "scaled_data"
      ]
    },
    {
      "cell_type": "code",
      "execution_count": 8,
      "metadata": {
        "colab": {
          "base_uri": "https://localhost:8080/"
        },
        "id": "kkoU0l1lOSLn",
        "outputId": "c70483e8-9e1f-43ec-c479-604bfa2f267c"
      },
      "outputs": [
        {
          "output_type": "stream",
          "name": "stdout",
          "text": [
            "[array([0.02191224, 0.02174973, 0.01668472, 0.0092091 , 0.00083966,\n",
            "       0.        , 0.00449621, 0.00433369, 0.0033857 , 0.00633803,\n",
            "       0.01094258, 0.011078  , 0.01310942, 0.0165493 , 0.01218851,\n",
            "       0.01197183, 0.01408451, 0.01486999, 0.01394908, 0.01286565,\n",
            "       0.01332611, 0.01232394, 0.01121344, 0.01386782, 0.01665764,\n",
            "       0.01478873, 0.0125948 , 0.01026544, 0.01029252, 0.00874865,\n",
            "       0.00568797, 0.00487541, 0.00682557, 0.00807151, 0.00907367,\n",
            "       0.00804442, 0.00809859, 0.00893824, 0.01172806, 0.0092091 ,\n",
            "       0.01110509, 0.01069881, 0.01056338, 0.01102384, 0.0099675 ,\n",
            "       0.0125948 , 0.01424702, 0.01421993, 0.01283857, 0.01381365,\n",
            "       0.01329902, 0.0118364 , 0.01332611, 0.01440954, 0.01673889,\n",
            "       0.013922  , 0.01199892, 0.01424702, 0.01346154, 0.01102384])]\n",
            "[0.010184179306608886]\n",
            " \n",
            "[array([0.02191224, 0.02174973, 0.01668472, 0.0092091 , 0.00083966,\n",
            "       0.        , 0.00449621, 0.00433369, 0.0033857 , 0.00633803,\n",
            "       0.01094258, 0.011078  , 0.01310942, 0.0165493 , 0.01218851,\n",
            "       0.01197183, 0.01408451, 0.01486999, 0.01394908, 0.01286565,\n",
            "       0.01332611, 0.01232394, 0.01121344, 0.01386782, 0.01665764,\n",
            "       0.01478873, 0.0125948 , 0.01026544, 0.01029252, 0.00874865,\n",
            "       0.00568797, 0.00487541, 0.00682557, 0.00807151, 0.00907367,\n",
            "       0.00804442, 0.00809859, 0.00893824, 0.01172806, 0.0092091 ,\n",
            "       0.01110509, 0.01069881, 0.01056338, 0.01102384, 0.0099675 ,\n",
            "       0.0125948 , 0.01424702, 0.01421993, 0.01283857, 0.01381365,\n",
            "       0.01329902, 0.0118364 , 0.01332611, 0.01440954, 0.01673889,\n",
            "       0.013922  , 0.01199892, 0.01424702, 0.01346154, 0.01102384]), array([0.02174973, 0.01668472, 0.0092091 , 0.00083966, 0.        ,\n",
            "       0.00449621, 0.00433369, 0.0033857 , 0.00633803, 0.01094258,\n",
            "       0.011078  , 0.01310942, 0.0165493 , 0.01218851, 0.01197183,\n",
            "       0.01408451, 0.01486999, 0.01394908, 0.01286565, 0.01332611,\n",
            "       0.01232394, 0.01121344, 0.01386782, 0.01665764, 0.01478873,\n",
            "       0.0125948 , 0.01026544, 0.01029252, 0.00874865, 0.00568797,\n",
            "       0.00487541, 0.00682557, 0.00807151, 0.00907367, 0.00804442,\n",
            "       0.00809859, 0.00893824, 0.01172806, 0.0092091 , 0.01110509,\n",
            "       0.01069881, 0.01056338, 0.01102384, 0.0099675 , 0.0125948 ,\n",
            "       0.01424702, 0.01421993, 0.01283857, 0.01381365, 0.01329902,\n",
            "       0.0118364 , 0.01332611, 0.01440954, 0.01673889, 0.013922  ,\n",
            "       0.01199892, 0.01424702, 0.01346154, 0.01102384, 0.01018418])]\n",
            "[0.010184179306608886, 0.011646803900325027]\n",
            " \n"
          ]
        }
      ],
      "source": [
        "# create the training dataset\n",
        "\n",
        "train_data = scaled_data[0:training_data_num, :]\n",
        "\n",
        "#split the data into x_train and y_train\n",
        "x_train = []\n",
        "y_train = []\n",
        "\n",
        "for i in range(60, len(train_data)):\n",
        "    x_train.append(train_data[i-60:i, 0])\n",
        "    y_train.append(train_data[i, 0])\n",
        "    if i <= 61:\n",
        "        print(x_train)\n",
        "        print(y_train)\n",
        "        print(' ')"
      ]
    },
    {
      "cell_type": "code",
      "execution_count": 9,
      "metadata": {
        "id": "dfObaXswOSLu"
      },
      "outputs": [],
      "source": [
        "# convert the the train dataset to a numpy array\n",
        "x_train, y_train = np.array(x_train), np.array(y_train)"
      ]
    },
    {
      "cell_type": "code",
      "execution_count": 10,
      "metadata": {
        "colab": {
          "base_uri": "https://localhost:8080/"
        },
        "id": "rkn1qMtIOSL1",
        "outputId": "8b8ec09e-0aba-4779-ef25-af8c4f3e2911"
      },
      "outputs": [
        {
          "output_type": "execute_result",
          "data": {
            "text/plain": [
              "(1695, 60, 1)"
            ]
          },
          "metadata": {},
          "execution_count": 10
        }
      ],
      "source": [
        "# Reshaping the data\n",
        "x_train = np.reshape(x_train, (x_train.shape[0], x_train.shape[1],1))\n",
        "x_train.shape"
      ]
    },
    {
      "cell_type": "code",
      "execution_count": 11,
      "metadata": {
        "id": "eR6nx_nNOSL6"
      },
      "outputs": [],
      "source": [
        "model = Sequential()\n",
        "\n",
        "model.add(LSTM(50, return_sequences = True, input_shape =(x_train.shape[1],1)))\n",
        "\n",
        "model.add(LSTM(50, return_sequences = False))\n",
        "#model.add(Dropout(0.2))\n",
        "\n",
        "model.add(Dense(25))\n",
        "model.add(Dense(1))\n",
        "model.compile(optimizer='adam',loss=\"mean_squared_error\")"
      ]
    },
    {
      "cell_type": "code",
      "execution_count": 12,
      "metadata": {
        "colab": {
          "base_uri": "https://localhost:8080/"
        },
        "id": "oDdrxLLFOSL9",
        "outputId": "7e248629-f8ee-4918-855f-01995cb941a0"
      },
      "outputs": [
        {
          "output_type": "stream",
          "name": "stdout",
          "text": [
            "1695/1695 [==============================] - 17s 6ms/step - loss: 0.0016\n"
          ]
        },
        {
          "output_type": "execute_result",
          "data": {
            "text/plain": [
              "<keras.callbacks.History at 0x7f2f20324f10>"
            ]
          },
          "metadata": {},
          "execution_count": 12
        }
      ],
      "source": [
        "# train the model\n",
        "model.fit(x_train, y_train, batch_size=1, epochs=1)"
      ]
    },
    {
      "cell_type": "code",
      "execution_count": 13,
      "metadata": {
        "id": "PhYkXqeIOSMF"
      },
      "outputs": [],
      "source": [
        "# creating the testing dataset\n",
        "# create a new array containing scaled values from index 2193\n",
        "\n",
        "test_data = scaled_data[training_data_num - 60:, :]\n",
        "\n",
        "# create the data sets x_test and y_test\n",
        "x_test = []\n",
        "y_test = dataset[training_data_num:, :]\n",
        "\n",
        "for i in range(60, len(test_data)):\n",
        "    x_test.append(test_data[i-60:i,0])"
      ]
    },
    {
      "cell_type": "code",
      "execution_count": 14,
      "metadata": {
        "id": "iP0g-VxvOSMK"
      },
      "outputs": [],
      "source": [
        "# converting to numpy array\n",
        "x_test = np.array(x_test)\n"
      ]
    },
    {
      "cell_type": "code",
      "execution_count": 15,
      "metadata": {
        "id": "1bmnUmTlOSMP"
      },
      "outputs": [],
      "source": [
        "x_test = np.reshape(x_test, (x_test.shape[0], x_test.shape[1], 1))"
      ]
    },
    {
      "cell_type": "code",
      "execution_count": 16,
      "metadata": {
        "id": "9xTKLsmwOSMT"
      },
      "outputs": [],
      "source": [
        "# Get the models predicted prece value\n",
        "preds = model.predict(x_test)\n",
        "preds = scaler.inverse_transform(preds)"
      ]
    },
    {
      "cell_type": "code",
      "execution_count": 17,
      "metadata": {
        "colab": {
          "base_uri": "https://localhost:8080/"
        },
        "id": "jyetVNPcOSMX",
        "outputId": "c923497c-f11d-4fea-dcd9-8544c7890364"
      },
      "outputs": [
        {
          "output_type": "execute_result",
          "data": {
            "text/plain": [
              "2.2710637417817137"
            ]
          },
          "metadata": {},
          "execution_count": 17
        }
      ],
      "source": [
        "# Get the root mean squared error (RMSE)\n",
        "rmse = np.sqrt(np.mean(preds - y_test)**2)\n",
        "rmse"
      ]
    },
    {
      "cell_type": "code",
      "execution_count": 18,
      "metadata": {
        "id": "z3KQQuGbOSMa"
      },
      "outputs": [],
      "source": [
        "# Plotting the data\n",
        "train = t_data[:training_data_num]\n",
        "valid = t_data[training_data_num:]"
      ]
    },
    {
      "cell_type": "code",
      "execution_count": 19,
      "metadata": {
        "colab": {
          "base_uri": "https://localhost:8080/"
        },
        "id": "SVOeQV_EOSMf",
        "outputId": "74f7bcd7-207c-411d-89b3-1c952756ee02"
      },
      "outputs": [
        {
          "output_type": "stream",
          "name": "stderr",
          "text": [
            "/usr/local/lib/python3.7/dist-packages/ipykernel_launcher.py:2: SettingWithCopyWarning: \n",
            "A value is trying to be set on a copy of a slice from a DataFrame.\n",
            "Try using .loc[row_indexer,col_indexer] = value instead\n",
            "\n",
            "See the caveats in the documentation: https://pandas.pydata.org/pandas-docs/stable/user_guide/indexing.html#returning-a-view-versus-a-copy\n",
            "  \n"
          ]
        }
      ],
      "source": [
        "#valid = pd.DataFrame(valid, columns=['Actual val'])\n",
        "valid['predictions'] = preds"
      ]
    },
    {
      "cell_type": "code",
      "execution_count": 20,
      "metadata": {
        "colab": {
          "base_uri": "https://localhost:8080/",
          "height": 394
        },
        "id": "45TLsL8FOSMi",
        "outputId": "0f2bdc39-80ca-473e-8813-3da3ecf47ac8"
      },
      "outputs": [
        {
          "output_type": "execute_result",
          "data": {
            "text/plain": [
              "                 Close  predictions\n",
              "Date                               \n",
              "17-08-2017  351.920013   357.644470\n",
              "04-12-2018  359.700012   342.722778\n",
              "20-02-2018  334.769989   321.730530\n",
              "10-01-2018  334.799988   320.162598\n",
              "12-06-2018  342.769989   313.185089\n",
              "09-08-2017  363.529999   344.675018\n",
              "17-12-2018  348.420013   363.227539\n",
              "22-05-2018  275.010010   283.794739\n",
              "14-06-2018  357.720001   328.241913\n",
              "17-07-2017  319.570007   318.567352"
            ],
            "text/html": [
              "\n",
              "  <div id=\"df-8a6f712b-219d-49c8-a96b-57dd821846ed\">\n",
              "    <div class=\"colab-df-container\">\n",
              "      <div>\n",
              "<style scoped>\n",
              "    .dataframe tbody tr th:only-of-type {\n",
              "        vertical-align: middle;\n",
              "    }\n",
              "\n",
              "    .dataframe tbody tr th {\n",
              "        vertical-align: top;\n",
              "    }\n",
              "\n",
              "    .dataframe thead th {\n",
              "        text-align: right;\n",
              "    }\n",
              "</style>\n",
              "<table border=\"1\" class=\"dataframe\">\n",
              "  <thead>\n",
              "    <tr style=\"text-align: right;\">\n",
              "      <th></th>\n",
              "      <th>Close</th>\n",
              "      <th>predictions</th>\n",
              "    </tr>\n",
              "    <tr>\n",
              "      <th>Date</th>\n",
              "      <th></th>\n",
              "      <th></th>\n",
              "    </tr>\n",
              "  </thead>\n",
              "  <tbody>\n",
              "    <tr>\n",
              "      <th>17-08-2017</th>\n",
              "      <td>351.920013</td>\n",
              "      <td>357.644470</td>\n",
              "    </tr>\n",
              "    <tr>\n",
              "      <th>04-12-2018</th>\n",
              "      <td>359.700012</td>\n",
              "      <td>342.722778</td>\n",
              "    </tr>\n",
              "    <tr>\n",
              "      <th>20-02-2018</th>\n",
              "      <td>334.769989</td>\n",
              "      <td>321.730530</td>\n",
              "    </tr>\n",
              "    <tr>\n",
              "      <th>10-01-2018</th>\n",
              "      <td>334.799988</td>\n",
              "      <td>320.162598</td>\n",
              "    </tr>\n",
              "    <tr>\n",
              "      <th>12-06-2018</th>\n",
              "      <td>342.769989</td>\n",
              "      <td>313.185089</td>\n",
              "    </tr>\n",
              "    <tr>\n",
              "      <th>09-08-2017</th>\n",
              "      <td>363.529999</td>\n",
              "      <td>344.675018</td>\n",
              "    </tr>\n",
              "    <tr>\n",
              "      <th>17-12-2018</th>\n",
              "      <td>348.420013</td>\n",
              "      <td>363.227539</td>\n",
              "    </tr>\n",
              "    <tr>\n",
              "      <th>22-05-2018</th>\n",
              "      <td>275.010010</td>\n",
              "      <td>283.794739</td>\n",
              "    </tr>\n",
              "    <tr>\n",
              "      <th>14-06-2018</th>\n",
              "      <td>357.720001</td>\n",
              "      <td>328.241913</td>\n",
              "    </tr>\n",
              "    <tr>\n",
              "      <th>17-07-2017</th>\n",
              "      <td>319.570007</td>\n",
              "      <td>318.567352</td>\n",
              "    </tr>\n",
              "  </tbody>\n",
              "</table>\n",
              "</div>\n",
              "      <button class=\"colab-df-convert\" onclick=\"convertToInteractive('df-8a6f712b-219d-49c8-a96b-57dd821846ed')\"\n",
              "              title=\"Convert this dataframe to an interactive table.\"\n",
              "              style=\"display:none;\">\n",
              "        \n",
              "  <svg xmlns=\"http://www.w3.org/2000/svg\" height=\"24px\"viewBox=\"0 0 24 24\"\n",
              "       width=\"24px\">\n",
              "    <path d=\"M0 0h24v24H0V0z\" fill=\"none\"/>\n",
              "    <path d=\"M18.56 5.44l.94 2.06.94-2.06 2.06-.94-2.06-.94-.94-2.06-.94 2.06-2.06.94zm-11 1L8.5 8.5l.94-2.06 2.06-.94-2.06-.94L8.5 2.5l-.94 2.06-2.06.94zm10 10l.94 2.06.94-2.06 2.06-.94-2.06-.94-.94-2.06-.94 2.06-2.06.94z\"/><path d=\"M17.41 7.96l-1.37-1.37c-.4-.4-.92-.59-1.43-.59-.52 0-1.04.2-1.43.59L10.3 9.45l-7.72 7.72c-.78.78-.78 2.05 0 2.83L4 21.41c.39.39.9.59 1.41.59.51 0 1.02-.2 1.41-.59l7.78-7.78 2.81-2.81c.8-.78.8-2.07 0-2.86zM5.41 20L4 18.59l7.72-7.72 1.47 1.35L5.41 20z\"/>\n",
              "  </svg>\n",
              "      </button>\n",
              "      \n",
              "  <style>\n",
              "    .colab-df-container {\n",
              "      display:flex;\n",
              "      flex-wrap:wrap;\n",
              "      gap: 12px;\n",
              "    }\n",
              "\n",
              "    .colab-df-convert {\n",
              "      background-color: #E8F0FE;\n",
              "      border: none;\n",
              "      border-radius: 50%;\n",
              "      cursor: pointer;\n",
              "      display: none;\n",
              "      fill: #1967D2;\n",
              "      height: 32px;\n",
              "      padding: 0 0 0 0;\n",
              "      width: 32px;\n",
              "    }\n",
              "\n",
              "    .colab-df-convert:hover {\n",
              "      background-color: #E2EBFA;\n",
              "      box-shadow: 0px 1px 2px rgba(60, 64, 67, 0.3), 0px 1px 3px 1px rgba(60, 64, 67, 0.15);\n",
              "      fill: #174EA6;\n",
              "    }\n",
              "\n",
              "    [theme=dark] .colab-df-convert {\n",
              "      background-color: #3B4455;\n",
              "      fill: #D2E3FC;\n",
              "    }\n",
              "\n",
              "    [theme=dark] .colab-df-convert:hover {\n",
              "      background-color: #434B5C;\n",
              "      box-shadow: 0px 1px 3px 1px rgba(0, 0, 0, 0.15);\n",
              "      filter: drop-shadow(0px 1px 2px rgba(0, 0, 0, 0.3));\n",
              "      fill: #FFFFFF;\n",
              "    }\n",
              "  </style>\n",
              "\n",
              "      <script>\n",
              "        const buttonEl =\n",
              "          document.querySelector('#df-8a6f712b-219d-49c8-a96b-57dd821846ed button.colab-df-convert');\n",
              "        buttonEl.style.display =\n",
              "          google.colab.kernel.accessAllowed ? 'block' : 'none';\n",
              "\n",
              "        async function convertToInteractive(key) {\n",
              "          const element = document.querySelector('#df-8a6f712b-219d-49c8-a96b-57dd821846ed');\n",
              "          const dataTable =\n",
              "            await google.colab.kernel.invokeFunction('convertToInteractive',\n",
              "                                                     [key], {});\n",
              "          if (!dataTable) return;\n",
              "\n",
              "          const docLinkHtml = 'Like what you see? Visit the ' +\n",
              "            '<a target=\"_blank\" href=https://colab.research.google.com/notebooks/data_table.ipynb>data table notebook</a>'\n",
              "            + ' to learn more about interactive tables.';\n",
              "          element.innerHTML = '';\n",
              "          dataTable['output_type'] = 'display_data';\n",
              "          await google.colab.output.renderOutput(dataTable, element);\n",
              "          const docLink = document.createElement('div');\n",
              "          docLink.innerHTML = docLinkHtml;\n",
              "          element.appendChild(docLink);\n",
              "        }\n",
              "      </script>\n",
              "    </div>\n",
              "  </div>\n",
              "  "
            ]
          },
          "metadata": {},
          "execution_count": 20
        }
      ],
      "source": [
        "valid.sample(10)"
      ]
    },
    {
      "cell_type": "code",
      "execution_count": 21,
      "metadata": {
        "colab": {
          "base_uri": "https://localhost:8080/",
          "height": 402
        },
        "id": "qVB3pAeuOSMm",
        "outputId": "4167924b-c5ef-4511-d5b2-b0b585e1c8be"
      },
      "outputs": [
        {
          "output_type": "display_data",
          "data": {
            "text/plain": [
              "<Figure size 1152x576 with 1 Axes>"
            ],
            "image/png": "[encoded data removed]"
          },
          "metadata": {
            "needs_background": "light"
          }
        }
      ],
      "source": [
        "# visualizing the data\n",
        "plt.figure(figsize=(16,8))\n",
        "plt.title('model')\n",
        "plt.xlabel('Date', fontsize=18)\n",
        "plt.ylabel('Cosing Price USD ($)', fontsize=18)\n",
        "plt.plot(train['Close'])\n",
        "plt.plot(valid[['Close', 'predictions']])\n",
        "plt.legend(['Train', 'Val', 'Predictions'], loc='lower right')\n",
        "plt.show()"
      ]
    },
    {
      "cell_type": "code",
      "execution_count": null,
      "metadata": {
        "id": "9X7BgxJ5OSMo"
      },
      "outputs": [],
      "source": [
        ""
      ]
    }
  ],
  "metadata": {
    "kernelspec": {
      "display_name": "Python 3",
      "language": "python",
      "name": "python3"
    },
    "language_info": {
      "codemirror_mode": {
        "name": "ipython",
        "version": 3
      },
      "file_extension": ".py",
      "mimetype": "text/x-python",
      "name": "python",
      "nbconvert_exporter": "python",
      "pygments_lexer": "ipython3",
      "version": "3.7.6"
    },
    "colab": {
      "name": "tesla closing price prediction.ipynb",
      "provenance": []
    },
    "accelerator": "GPU"
  },
  "nbformat": 4,
  "nbformat_minor": 0
}